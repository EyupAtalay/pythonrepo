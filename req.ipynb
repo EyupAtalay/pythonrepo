{
 "cells": [
  {
   "cell_type": "code",
   "execution_count": 68,
   "id": "5a255718",
   "metadata": {},
   "outputs": [
    {
     "name": "stdout",
     "output_type": "stream",
     "text": [
      "26.9981532102\n"
     ]
    }
   ],
   "source": [
    "import requests\n",
    "req = requests.get(\"https://api.currencyapi.com/v3/latest?apikey=cur_live_7Bwn44Zt39anA2ZEKdByBPbW769ziE6Atkbhz5oa\")\n",
    "data = req.json()\n",
    "print(data['data']['TRY']['value'])"
   ]
  },
  {
   "cell_type": "code",
   "execution_count": 5,
   "id": "bbcf8c06",
   "metadata": {},
   "outputs": [
    {
     "name": "stdout",
     "output_type": "stream",
     "text": [
      "Girilecek birimi yaz. BNB\n",
      "miktari yaz. 100\n",
      "donusecek para birimi yaz. BTC\n",
      "0.8346971333850027\n"
     ]
    }
   ],
   "source": [
    "import requests\n",
    "req = requests.get(\"https://api.currencyapi.com/v3/latest?apikey=cur_live_7Bwn44Zt39anA2ZEKdByBPbW769ziE6Atkbhz5oa\")\n",
    "data = req.json()\n",
    "\n",
    "inputkur = input(\"Girilecek birimi yaz. \")\n",
    "miktar = float(input(\"miktari yaz. \"))\n",
    "inputdonus = input(\"donusecek para birimi yaz. \")\n",
    "\n",
    "TRY = data['data'] \n",
    "for databilgi in TRY:\n",
    "    if(TRY[databilgi]['code'] == inputkur ):\n",
    "        kurvalue = TRY[databilgi]['value']\n",
    "        \n",
    "    if(TRY[databilgi]['code'] == inputdonus ):    \n",
    "        kurdonus = TRY[databilgi]['value']\n",
    "        \n",
    "\n",
    "donusumdegeri = (kurdonus/kurvalue) * miktar\n",
    "\n",
    "print(donusumdegeri)\n"
   ]
  },
  {
   "cell_type": "markdown",
   "id": "72146847",
   "metadata": {},
   "source": [
    "# GİTHUB APİ"
   ]
  },
  {
   "cell_type": "code",
   "execution_count": null,
   "id": "a2b79ef4",
   "metadata": {},
   "outputs": [],
   "source": []
  }
 ],
 "metadata": {
  "kernelspec": {
   "display_name": "Python 3 (ipykernel)",
   "language": "python",
   "name": "python3"
  },
  "language_info": {
   "codemirror_mode": {
    "name": "ipython",
    "version": 3
   },
   "file_extension": ".py",
   "mimetype": "text/x-python",
   "name": "python",
   "nbconvert_exporter": "python",
   "pygments_lexer": "ipython3",
   "version": "3.11.3"
  }
 },
 "nbformat": 4,
 "nbformat_minor": 5
}
